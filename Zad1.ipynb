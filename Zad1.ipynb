{
 "cells": [
  {
   "cell_type": "code",
   "execution_count": 1,
   "id": "de43da38-d130-4032-9711-668a05d131e4",
   "metadata": {},
   "outputs": [
    {
     "data": {
      "application/vnd.jupyter.widget-view+json": {
       "model_id": "78e63450dc5849cf9d534ddca8b99a24",
       "version_major": 2,
       "version_minor": 0
      },
      "text/plain": [
       "Output()"
      ]
     },
     "metadata": {},
     "output_type": "display_data"
    }
   ],
   "source": [
    "import k3d\n",
    "import numpy as np\n",
    "\n",
    "grid_size = 40\n",
    "x = np.linspace(-3, 3, grid_size)\n",
    "y = np.linspace(-3, 3, grid_size)\n",
    "X, Y = np.meshgrid(x, y)\n",
    "Z = np.sin(X) * np.cos(Y)\n",
    "\n",
    "vertices = np.vstack([X.ravel(), Y.ravel(), Z.ravel()]).T.astype(np.float32)\n",
    "\n",
    "indices = []\n",
    "for i in range(grid_size-1):\n",
    "    for j in range(grid_size-1):\n",
    "        idx = i * grid_size + j\n",
    "        indices.append([idx, idx+1, idx+grid_size])\n",
    "        indices.append([idx+1, idx+grid_size+1, idx+grid_size])\n",
    "indices = np.array(indices, dtype=np.uint32)\n",
    "\n",
    "z_min, z_max = Z.min(), Z.max()\n",
    "z_norm = (Z.ravel() - z_min) / (z_max - z_min)\n",
    "colors = (z_norm * 0xFFFFFF).astype(np.uint32)\n",
    "\n",
    "peak_idx = np.argmax(Z.ravel())\n",
    "valley_idx = np.argmin(Z.ravel())\n",
    "peak_pos = vertices[peak_idx] + [0, 0, 0.2]  \n",
    "valley_pos = vertices[valley_idx] + [0, 0, 0.2]\n",
    "\n",
    "plot = k3d.plot()\n",
    "\n",
    "plot += k3d.mesh(vertices, indices, colors=colors, wireframe=False)\n",
    "\n",
    "plot += k3d.text(\"PEAK\", position=peak_pos.tolist(), color=0xff0000, scale=0.3)\n",
    "plot += k3d.text(\"VALLEY\", position=valley_pos.tolist(), color=0x0000ff, scale=0.3)\n",
    "\n",
    "plot += k3d.text2d(f\"Elevation\\n{z_min:.2f}\", position=[0.05, 0.7], size=1.0, color=0x0000ff)\n",
    "plot += k3d.text2d(f\"Elevation\\n{z_max:.2f}\", position=[0.05, 0.8], size=1.0, color=0xff0000)\n",
    "\n",
    "plot.display()"
   ]
  },
  {
   "cell_type": "code",
   "execution_count": null,
   "id": "66e9540f-5dba-42bf-9b6e-5ce62e5770f1",
   "metadata": {},
   "outputs": [],
   "source": []
  }
 ],
 "metadata": {
  "kernelspec": {
   "display_name": "Python 3 (ipykernel)",
   "language": "python",
   "name": "python3"
  },
  "language_info": {
   "codemirror_mode": {
    "name": "ipython",
    "version": 3
   },
   "file_extension": ".py",
   "mimetype": "text/x-python",
   "name": "python",
   "nbconvert_exporter": "python",
   "pygments_lexer": "ipython3",
   "version": "3.9.21"
  }
 },
 "nbformat": 4,
 "nbformat_minor": 5
}
