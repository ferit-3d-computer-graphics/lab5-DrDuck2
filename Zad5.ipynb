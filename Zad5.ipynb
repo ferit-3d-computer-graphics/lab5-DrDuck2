{
 "cells": [
  {
   "cell_type": "code",
   "execution_count": 8,
   "id": "e85b66f7-99c2-4c85-a2a6-29d4f3391b77",
   "metadata": {},
   "outputs": [
    {
     "data": {
      "application/vnd.jupyter.widget-view+json": {
       "model_id": "a10a512478b941778e41d0b8d060b500",
       "version_major": 2,
       "version_minor": 0
      },
      "text/plain": [
       "Output()"
      ]
     },
     "metadata": {},
     "output_type": "display_data"
    }
   ],
   "source": [
    "import k3d\n",
    "import numpy as np\n",
    "\n",
    "def create_cone(radius=0.1, height=0.3, segments=32):\n",
    "    theta = np.linspace(0, 2*np.pi, segments)\n",
    "    x = radius * np.cos(theta)\n",
    "    y = radius * np.sin(theta)\n",
    "    z = np.zeros_like(x)\n",
    "    base_vertices = np.vstack([x, y, z]).T\n",
    "    tip_vertex = np.array([[0, 0, height]])\n",
    "    vertices = np.vstack([base_vertices, tip_vertex]).astype(np.float32)\n",
    "    \n",
    "    faces = []\n",
    "    tip_index = len(vertices) - 1\n",
    "    for i in range(segments):\n",
    "        next_i = (i + 1) % segments\n",
    "        faces.append([i, next_i, tip_index])\n",
    "    \n",
    "    return vertices, np.array(faces, dtype=np.uint32)\n",
    "\n",
    "def rotation_x_matrix(degrees):\n",
    "    theta = np.radians(degrees)\n",
    "    return np.array([\n",
    "        [1, 0, 0, 0],\n",
    "        [0, np.cos(theta), -np.sin(theta), 0],\n",
    "        [0, np.sin(theta), np.cos(theta), 0],\n",
    "        [0, 0, 0, 1]\n",
    "    ], dtype=np.float32)\n",
    "\n",
    "def rotation_y_matrix(degrees):\n",
    "    theta = np.radians(degrees)\n",
    "    return np.array([\n",
    "        [np.cos(theta), 0, np.sin(theta), 0],\n",
    "        [0, 1, 0, 0],\n",
    "        [-np.sin(theta), 0, np.cos(theta), 0],\n",
    "        [0, 0, 0, 1]\n",
    "    ], dtype=np.float32)\n",
    "\n",
    "def translation_matrix(tx, ty, tz):\n",
    "    return np.array([\n",
    "        [1, 0, 0, tx],\n",
    "        [0, 1, 0, ty],\n",
    "        [0, 0, 1, tz],\n",
    "        [0, 0, 0, 1]\n",
    "    ], dtype=np.float32)\n",
    "\n",
    "plot = k3d.plot(background_color=0x000000)\n",
    "axis_length = 1.5\n",
    "\n",
    "plot += k3d.line([[0,0,0], [axis_length,0,0]], color=0xFF0000, width=0.05)\n",
    "plot += k3d.line([[0,0,0], [0,axis_length,0]], color=0x00FF00, width=0.05)\n",
    "plot += k3d.line([[0,0,0], [0,0,axis_length]], color=0x0000FF, width=0.05)\n",
    "\n",
    "cone_vertices, cone_faces = create_cone()\n",
    "\n",
    "x_transform = translation_matrix(axis_length, 0, 0) @ rotation_y_matrix(90)\n",
    "plot += k3d.mesh(cone_vertices, cone_faces, color=0xFF0000, model_matrix=x_transform)\n",
    "\n",
    "y_transform = translation_matrix(0, axis_length, 0) @ rotation_x_matrix(-90)\n",
    "plot += k3d.mesh(cone_vertices, cone_faces, color=0x00FF00, model_matrix=y_transform)\n",
    "\n",
    "z_transform = translation_matrix(0, 0, axis_length)\n",
    "plot += k3d.mesh(cone_vertices, cone_faces, color=0x0000FF, model_matrix=z_transform)\n",
    "\n",
    "label_offset = 0.2\n",
    "plot += k3d.text(\"X\", position=[axis_length+label_offset,0,0], color=0xFF0000, scale=0.3)\n",
    "plot += k3d.text(\"Y\", position=[0,axis_length+label_offset,0], color=0x00FF00, scale=0.3)\n",
    "plot += k3d.text(\"Z\", position=[0,0,axis_length+label_offset], color=0x0000FF, scale=0.3)\n",
    "\n",
    "plot += k3d.points([[0, 0, 0]], point_size=0.1, color=0xFFFFFF)\n",
    "\n",
    "plot.camera = [3, 3, 3, 0, 0, 0, 0, 0, 1]\n",
    "plot.display()\n",
    "\n"
   ]
  },
  {
   "cell_type": "code",
   "execution_count": null,
   "id": "748c5b9b-8f1e-4e01-88e7-bec02b60b9ef",
   "metadata": {},
   "outputs": [],
   "source": []
  }
 ],
 "metadata": {
  "kernelspec": {
   "display_name": "Python 3 (ipykernel)",
   "language": "python",
   "name": "python3"
  },
  "language_info": {
   "codemirror_mode": {
    "name": "ipython",
    "version": 3
   },
   "file_extension": ".py",
   "mimetype": "text/x-python",
   "name": "python",
   "nbconvert_exporter": "python",
   "pygments_lexer": "ipython3",
   "version": "3.9.21"
  }
 },
 "nbformat": 4,
 "nbformat_minor": 5
}
