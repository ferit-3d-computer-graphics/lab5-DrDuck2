{
 "cells": [
  {
   "cell_type": "code",
   "execution_count": 24,
   "id": "f7dce6c4-0a62-4025-a7b3-a3f8463282e4",
   "metadata": {},
   "outputs": [
    {
     "data": {
      "application/vnd.jupyter.widget-view+json": {
       "model_id": "163318066b2843dea29901185692b93f",
       "version_major": 2,
       "version_minor": 0
      },
      "text/plain": [
       "Output()"
      ]
     },
     "metadata": {},
     "output_type": "display_data"
    }
   ],
   "source": [
    "import k3d\n",
    "import numpy as np\n",
    "\n",
    "red_sphere = k3d.points([[1, 0, 0]], color=0xFF0000, point_size=0.3)\n",
    "blue_points = k3d.points([[0, 0, 1], [0, 1, 0]], color=0x0000FF, point_size=0.3)\n",
    "\n",
    "legend_items = [\n",
    "    (\"Scene Legend\", 0x000000, 1.2, [0.7, 0.60]),  # Title\n",
    "    (\"■ Red: Critical Errors\", 0xFF0000, 1.2, [0.7, 0.70]),\n",
    "    (\"■ Blue: Neutral Areas\", 0x0000FF, 1.2, [0.7, 0.80])\n",
    "]\n",
    "\n",
    "plot = k3d.plot()\n",
    "plot += red_sphere\n",
    "plot += blue_points\n",
    "\n",
    "for text, color, size, pos in legend_items:\n",
    "    plot += k3d.text2d(\n",
    "        text,\n",
    "        position=pos,\n",
    "        color=color,\n",
    "        size=size,\n",
    "        label_box=True,\n",
    "        reference_point='lt'         \n",
    "    )\n",
    "\n",
    "plot += k3d.line([[0,0,0], [2,0,0]], color=0xAAAAAA, width=0.02)\n",
    "plot += k3d.line([[0,0,0], [0,2,0]], color=0xAAAAAA, width=0.02)\n",
    "plot += k3d.line([[0,0,0], [0,0,2]], color=0xAAAAAA, width=0.02)\n",
    "\n",
    "plot.display()\n"
   ]
  },
  {
   "cell_type": "code",
   "execution_count": null,
   "id": "4e2c9513-64f1-4ed9-b736-1ef6f6941050",
   "metadata": {},
   "outputs": [],
   "source": []
  }
 ],
 "metadata": {
  "kernelspec": {
   "display_name": "Python 3 (ipykernel)",
   "language": "python",
   "name": "python3"
  },
  "language_info": {
   "codemirror_mode": {
    "name": "ipython",
    "version": 3
   },
   "file_extension": ".py",
   "mimetype": "text/x-python",
   "name": "python",
   "nbconvert_exporter": "python",
   "pygments_lexer": "ipython3",
   "version": "3.9.21"
  }
 },
 "nbformat": 4,
 "nbformat_minor": 5
}
