{
 "cells": [
  {
   "cell_type": "code",
   "execution_count": 3,
   "id": "848093ad-a482-46e3-88a6-25b14ac27f60",
   "metadata": {},
   "outputs": [
    {
     "data": {
      "application/vnd.jupyter.widget-view+json": {
       "model_id": "7ea0657b3ce84be58b7f789efb96d462",
       "version_major": 2,
       "version_minor": 0
      },
      "text/plain": [
       "Output()"
      ]
     },
     "metadata": {},
     "output_type": "display_data"
    }
   ],
   "source": [
    "import k3d\n",
    "import numpy as np\n",
    "\n",
    "grid_size = 50\n",
    "x = np.linspace(-1, 1, grid_size)\n",
    "y = np.linspace(-1, 1, grid_size)\n",
    "X, Y = np.meshgrid(x, y)\n",
    "Z = X**2 + Y**2\n",
    "\n",
    "vertices = np.vstack([X.ravel(), Y.ravel(), Z.ravel()]).T.astype(np.float32)\n",
    "\n",
    "indices = []\n",
    "for i in range(grid_size-1):\n",
    "    for j in range(grid_size-1):\n",
    "        idx = i * grid_size + j\n",
    "        indices.append([idx, idx+1, idx+grid_size])\n",
    "        indices.append([idx+1, idx+grid_size+1, idx+grid_size])\n",
    "indices = np.array(indices, dtype=np.uint32)\n",
    "\n",
    "z_min, z_max = Z.min(), Z.max()\n",
    "z_norm = (Z.ravel() - z_min) / (z_max - z_min)\n",
    "colors = (z_norm * 0xFFFF00 + (1 - z_norm) * 0x0000FF).astype(np.uint32)\n",
    "\n",
    "mesh_gradient = k3d.mesh(\n",
    "    vertices, indices,\n",
    "    colors=colors,\n",
    "    wireframe=False,\n",
    "    flat_shading=False\n",
    ")\n",
    "\n",
    "mesh_flat = k3d.mesh(\n",
    "    vertices, indices,\n",
    "    color=0x00FF00, \n",
    "    wireframe=False,\n",
    "    flat_shading=False\n",
    ")\n",
    "mesh_flat.transform.translation = [2.5, 0, 0]  \n",
    "\n",
    "plot = k3d.plot()\n",
    "plot += mesh_gradient\n",
    "plot += mesh_flat\n",
    "plot.display()\n"
   ]
  },
  {
   "cell_type": "code",
   "execution_count": null,
   "id": "742ed01a-0a66-47fa-9fdc-76ea6ce428c3",
   "metadata": {},
   "outputs": [],
   "source": []
  }
 ],
 "metadata": {
  "kernelspec": {
   "display_name": "Python 3 (ipykernel)",
   "language": "python",
   "name": "python3"
  },
  "language_info": {
   "codemirror_mode": {
    "name": "ipython",
    "version": 3
   },
   "file_extension": ".py",
   "mimetype": "text/x-python",
   "name": "python",
   "nbconvert_exporter": "python",
   "pygments_lexer": "ipython3",
   "version": "3.9.21"
  }
 },
 "nbformat": 4,
 "nbformat_minor": 5
}
