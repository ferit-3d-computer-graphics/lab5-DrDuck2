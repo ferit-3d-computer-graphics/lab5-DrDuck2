{
 "cells": [
  {
   "cell_type": "code",
   "execution_count": 4,
   "id": "1977f3ae-1767-4654-9944-dbd4198e0869",
   "metadata": {},
   "outputs": [
    {
     "data": {
      "application/vnd.jupyter.widget-view+json": {
       "model_id": "4d15585d3c9d431e86292063b6d48ceb",
       "version_major": 2,
       "version_minor": 0
      },
      "text/plain": [
       "Output()"
      ]
     },
     "metadata": {},
     "output_type": "display_data"
    },
    {
     "ename": "KeyboardInterrupt",
     "evalue": "",
     "output_type": "error",
     "traceback": [
      "\u001b[1;31m---------------------------------------------------------------------------\u001b[0m",
      "\u001b[1;31mKeyboardInterrupt\u001b[0m                         Traceback (most recent call last)",
      "Cell \u001b[1;32mIn[4], line 58\u001b[0m\n\u001b[0;32m     55\u001b[0m text_overlay \u001b[38;5;241m=\u001b[39m create_overlay_text(angle, fps)\n\u001b[0;32m     56\u001b[0m plot \u001b[38;5;241m+\u001b[39m\u001b[38;5;241m=\u001b[39m text_overlay\n\u001b[1;32m---> 58\u001b[0m \u001b[43mtime\u001b[49m\u001b[38;5;241;43m.\u001b[39;49m\u001b[43msleep\u001b[49m\u001b[43m(\u001b[49m\u001b[38;5;241;43m0.05\u001b[39;49m\u001b[43m)\u001b[49m\n",
      "\u001b[1;31mKeyboardInterrupt\u001b[0m: "
     ]
    }
   ],
   "source": [
    "import k3d\n",
    "import numpy as np\n",
    "import time\n",
    "\n",
    "vertices = np.array([\n",
    "    [-1, -1, -1], [1, -1, -1], [1, 1, -1], [-1, 1, -1],\n",
    "    [-1, -1, 1], [1, -1, 1], [1, 1, 1], [-1, 1, 1]\n",
    "], dtype=np.float32)\n",
    "\n",
    "indices = np.array([\n",
    "    [0,1,2], [0,2,3], [4,5,6], [4,6,7],\n",
    "    [0,1,5], [0,5,4], [1,2,6], [1,6,5],\n",
    "    [2,3,7], [2,7,6], [3,0,4], [3,4,7]\n",
    "], dtype=np.uint32)\n",
    "\n",
    "cube = k3d.mesh(vertices, indices, color=0x00ff00, wireframe=True)\n",
    "plot = k3d.plot()\n",
    "plot += cube\n",
    "\n",
    "def create_overlay_text(angle=0, fps=0):\n",
    "    return k3d.text2d(\n",
    "        f\"Rotation Angle: {angle:.1f}°\\nFPS: {fps:.1f}\",\n",
    "        position=[0.05, 0.05], \n",
    "        size=1.0,\n",
    "        color=0x000000,\n",
    "        label_box=False\n",
    "    )\n",
    "\n",
    "text_overlay = create_overlay_text()\n",
    "plot += text_overlay\n",
    "\n",
    "plot.display()\n",
    "\n",
    "angle = 0\n",
    "last_time = time.time()\n",
    "\n",
    "for _ in range(300): \n",
    "    angle += 2\n",
    "    theta = np.radians(angle)\n",
    "    rot_matrix = np.array([\n",
    "        [np.cos(theta), -np.sin(theta), 0, 0],\n",
    "        [np.sin(theta), np.cos(theta), 0, 0],\n",
    "        [0, 0, 1, 0],\n",
    "        [0, 0, 0, 1]\n",
    "    ], dtype=np.float32)\n",
    "    \n",
    "    cube.model_matrix = rot_matrix\n",
    "    \n",
    "    current_time = time.time()\n",
    "    delta_time = current_time - last_time\n",
    "    last_time = current_time\n",
    "    fps = 1 / delta_time if delta_time > 0 else 0\n",
    "    \n",
    "    plot -= text_overlay\n",
    "    text_overlay = create_overlay_text(angle, fps)\n",
    "    plot += text_overlay\n",
    "    \n",
    "    time.sleep(0.05)\n"
   ]
  },
  {
   "cell_type": "code",
   "execution_count": null,
   "id": "a5ccb31c-0b86-4529-a06f-cea8502aac39",
   "metadata": {},
   "outputs": [],
   "source": []
  },
  {
   "cell_type": "code",
   "execution_count": null,
   "id": "fe908e90-a693-4040-87a9-a8199e5ff357",
   "metadata": {},
   "outputs": [],
   "source": []
  }
 ],
 "metadata": {
  "kernelspec": {
   "display_name": "Python 3 (ipykernel)",
   "language": "python",
   "name": "python3"
  },
  "language_info": {
   "codemirror_mode": {
    "name": "ipython",
    "version": 3
   },
   "file_extension": ".py",
   "mimetype": "text/x-python",
   "name": "python",
   "nbconvert_exporter": "python",
   "pygments_lexer": "ipython3",
   "version": "3.9.21"
  }
 },
 "nbformat": 4,
 "nbformat_minor": 5
}
