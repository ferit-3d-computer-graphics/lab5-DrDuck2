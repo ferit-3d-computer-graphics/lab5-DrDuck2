{
 "cells": [
  {
   "cell_type": "code",
   "execution_count": 3,
   "id": "048c6c70-bc3a-46b2-ba11-d33e8edec27e",
   "metadata": {},
   "outputs": [
    {
     "data": {
      "application/vnd.jupyter.widget-view+json": {
       "model_id": "93bb21765a6b4516ace0f351472b053f",
       "version_major": 2,
       "version_minor": 0
      },
      "text/plain": [
       "Output()"
      ]
     },
     "metadata": {},
     "output_type": "display_data"
    }
   ],
   "source": [
    "import k3d\n",
    "import numpy as np\n",
    "\n",
    "np.random.seed(42)\n",
    "group1_points = np.random.randn(100, 3) * 0.5 + [1, 1, 1]\n",
    "group2_points = np.random.randn(80, 3) * 0.8 + [-1, -1, -1]\n",
    "all_points = np.vstack([group1_points, group2_points])\n",
    "\n",
    "group1_colors = np.full(len(group1_points), 0xFF0000)  \n",
    "group2_colors = np.full(len(group2_points), 0x00FF00)  \n",
    "all_colors = np.hstack([group1_colors, group2_colors])\n",
    "\n",
    "label_indices = [\n",
    "    *np.random.choice(len(group1_points), 5, replace=False),\n",
    "    *len(group1_points) + np.random.choice(len(group2_points), 5)\n",
    "]\n",
    "\n",
    "plot = k3d.plot()\n",
    "point_cloud = k3d.points(\n",
    "    positions=all_points.astype(np.float32),\n",
    "    colors=all_colors,\n",
    "    point_size=0.2,\n",
    "    shader='flat'\n",
    ")\n",
    "plot += point_cloud\n",
    "\n",
    "for idx in label_indices:\n",
    "    point = all_points[idx]\n",
    "    label_text = f\"Point {idx}\\n({point[0]:.2f}, {point[1]:.2f}, {point[2]:.2f})\"\n",
    "    \n",
    "    group_color = 0xFF0000 if idx < len(group1_points) else 0x00FF00\n",
    "    \n",
    "    label_pos = point + [0, 0, 0.3]\n",
    "    \n",
    "    plot += k3d.text(\n",
    "        label_text,\n",
    "        position=label_pos.tolist(),\n",
    "        color=group_color,\n",
    "        scale=0.3,\n",
    "        label_box=True\n",
    "    )\n",
    "\n",
    "plot += k3d.text2d(\n",
    "    \"Group Legend:\\n🔴 Group 1 (Red)\\n🟢 Group 2 (Green)\",\n",
    "    position=[0.05, 0.8],\n",
    "    size=1.2,\n",
    "    color=0xFFFFFF,\n",
    "    label_box=True\n",
    ")\n",
    "\n",
    "plot.display()\n",
    "\n"
   ]
  },
  {
   "cell_type": "code",
   "execution_count": null,
   "id": "b835827a-dcc6-468d-846e-bbd7908540e9",
   "metadata": {},
   "outputs": [],
   "source": []
  }
 ],
 "metadata": {
  "kernelspec": {
   "display_name": "Python 3 (ipykernel)",
   "language": "python",
   "name": "python3"
  },
  "language_info": {
   "codemirror_mode": {
    "name": "ipython",
    "version": 3
   },
   "file_extension": ".py",
   "mimetype": "text/x-python",
   "name": "python",
   "nbconvert_exporter": "python",
   "pygments_lexer": "ipython3",
   "version": "3.9.21"
  }
 },
 "nbformat": 4,
 "nbformat_minor": 5
}
